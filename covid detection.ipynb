{
 "cells": [
  {
   "cell_type": "code",
   "execution_count": 1,
   "id": "38756734",
   "metadata": {},
   "outputs": [],
   "source": [
    "#To allocate memorey for gpu(here we are using 50%)\n",
    "from tensorflow.compat.v1 import ConfigProto\n",
    "from tensorflow.compat.v1 import InteractiveSession\n",
    "\n",
    "config = ConfigProto()\n",
    "config.gpu_options.per_process_gpu_memory_fraction = 0.5\n",
    "config.gpu_options.allow_growth = True\n",
    "session = InteractiveSession(config=config)"
   ]
  },
  {
   "cell_type": "code",
   "execution_count": 3,
   "id": "057ca61c",
   "metadata": {},
   "outputs": [
    {
     "name": "stdout",
     "output_type": "stream",
     "text": [
      "2.0.0\n"
     ]
    }
   ],
   "source": [
    "import tensorflow as tf\n",
    "print(tf.__version__)"
   ]
  },
  {
   "cell_type": "code",
   "execution_count": 4,
   "id": "36c1648c",
   "metadata": {},
   "outputs": [],
   "source": [
    "from keras.layers import Input, Lambda, Dense, Flatten\n",
    "from keras.models import Model\n",
    "from keras.applications.vgg16 import VGG16\n",
    "from keras.preprocessing import image\n",
    "from keras.preprocessing.image import ImageDataGenerator,load_img\n",
    "from keras.models import Sequential"
   ]
  },
  {
   "cell_type": "code",
   "execution_count": 5,
   "id": "a96b7914",
   "metadata": {},
   "outputs": [],
   "source": [
    "import numpy as np\n",
    "from glob import glob"
   ]
  },
  {
   "cell_type": "code",
   "execution_count": 6,
   "id": "dd1c7ddd",
   "metadata": {},
   "outputs": [],
   "source": [
    "#resize all images\n",
    "IMAGE_SIZE = [224,224]\n",
    "train_path = 'train'\n",
    "test_path = 'test'"
   ]
  },
  {
   "cell_type": "code",
   "execution_count": 7,
   "id": "78c1a6eb",
   "metadata": {},
   "outputs": [],
   "source": [
    "vgg16 = VGG16(input_shape=IMAGE_SIZE + [3],weights='imagenet',include_top=False)"
   ]
  },
  {
   "cell_type": "code",
   "execution_count": 8,
   "id": "8fde9f1b",
   "metadata": {},
   "outputs": [],
   "source": [
    "#dont train existing weights\n",
    "for layer in vgg16.layers:\n",
    "    layer.trainable = False"
   ]
  },
  {
   "cell_type": "code",
   "execution_count": 9,
   "id": "6d8e247c",
   "metadata": {},
   "outputs": [
    {
     "data": {
      "text/plain": [
       "['train\\\\covid', 'train\\\\normal']"
      ]
     },
     "execution_count": 9,
     "metadata": {},
     "output_type": "execute_result"
    }
   ],
   "source": [
    "train_folders = glob('train/*')\n",
    "train_folders"
   ]
  },
  {
   "cell_type": "code",
   "execution_count": 10,
   "id": "ede687ff",
   "metadata": {},
   "outputs": [
    {
     "data": {
      "text/plain": [
       "['test\\\\covid', 'test\\\\normal']"
      ]
     },
     "execution_count": 10,
     "metadata": {},
     "output_type": "execute_result"
    }
   ],
   "source": [
    "test_folders = glob('test/*')\n",
    "test_folders"
   ]
  },
  {
   "cell_type": "code",
   "execution_count": 11,
   "id": "915a1518",
   "metadata": {},
   "outputs": [],
   "source": [
    "#flattern layer\n",
    "x = Flatten()(vgg16.output)"
   ]
  },
  {
   "cell_type": "code",
   "execution_count": 12,
   "id": "22fe1075",
   "metadata": {},
   "outputs": [],
   "source": [
    "prediction = Dense(2,activation='softmax')(x)\n",
    "#create model\n",
    "model = Model(inputs=vgg16.input,outputs=prediction)"
   ]
  },
  {
   "cell_type": "code",
   "execution_count": 13,
   "id": "64b9242f",
   "metadata": {},
   "outputs": [
    {
     "name": "stdout",
     "output_type": "stream",
     "text": [
      "Model: \"model_1\"\n",
      "_________________________________________________________________\n",
      "Layer (type)                 Output Shape              Param #   \n",
      "=================================================================\n",
      "input_1 (InputLayer)         (None, 224, 224, 3)       0         \n",
      "_________________________________________________________________\n",
      "block1_conv1 (Conv2D)        (None, 224, 224, 64)      1792      \n",
      "_________________________________________________________________\n",
      "block1_conv2 (Conv2D)        (None, 224, 224, 64)      36928     \n",
      "_________________________________________________________________\n",
      "block1_pool (MaxPooling2D)   (None, 112, 112, 64)      0         \n",
      "_________________________________________________________________\n",
      "block2_conv1 (Conv2D)        (None, 112, 112, 128)     73856     \n",
      "_________________________________________________________________\n",
      "block2_conv2 (Conv2D)        (None, 112, 112, 128)     147584    \n",
      "_________________________________________________________________\n",
      "block2_pool (MaxPooling2D)   (None, 56, 56, 128)       0         \n",
      "_________________________________________________________________\n",
      "block3_conv1 (Conv2D)        (None, 56, 56, 256)       295168    \n",
      "_________________________________________________________________\n",
      "block3_conv2 (Conv2D)        (None, 56, 56, 256)       590080    \n",
      "_________________________________________________________________\n",
      "block3_conv3 (Conv2D)        (None, 56, 56, 256)       590080    \n",
      "_________________________________________________________________\n",
      "block3_pool (MaxPooling2D)   (None, 28, 28, 256)       0         \n",
      "_________________________________________________________________\n",
      "block4_conv1 (Conv2D)        (None, 28, 28, 512)       1180160   \n",
      "_________________________________________________________________\n",
      "block4_conv2 (Conv2D)        (None, 28, 28, 512)       2359808   \n",
      "_________________________________________________________________\n",
      "block4_conv3 (Conv2D)        (None, 28, 28, 512)       2359808   \n",
      "_________________________________________________________________\n",
      "block4_pool (MaxPooling2D)   (None, 14, 14, 512)       0         \n",
      "_________________________________________________________________\n",
      "block5_conv1 (Conv2D)        (None, 14, 14, 512)       2359808   \n",
      "_________________________________________________________________\n",
      "block5_conv2 (Conv2D)        (None, 14, 14, 512)       2359808   \n",
      "_________________________________________________________________\n",
      "block5_conv3 (Conv2D)        (None, 14, 14, 512)       2359808   \n",
      "_________________________________________________________________\n",
      "block5_pool (MaxPooling2D)   (None, 7, 7, 512)         0         \n",
      "_________________________________________________________________\n",
      "flatten_1 (Flatten)          (None, 25088)             0         \n",
      "_________________________________________________________________\n",
      "dense_1 (Dense)              (None, 2)                 50178     \n",
      "=================================================================\n",
      "Total params: 14,764,866\n",
      "Trainable params: 50,178\n",
      "Non-trainable params: 14,714,688\n",
      "_________________________________________________________________\n"
     ]
    }
   ],
   "source": [
    "model.summary()"
   ]
  },
  {
   "cell_type": "code",
   "execution_count": 14,
   "id": "6e13b40c",
   "metadata": {},
   "outputs": [],
   "source": [
    "model.compile(loss='categorical_crossentropy',\n",
    "              optimizer='adam',\n",
    "              metrics=['accuracy'])"
   ]
  },
  {
   "cell_type": "code",
   "execution_count": 15,
   "id": "a8a09297",
   "metadata": {},
   "outputs": [],
   "source": [
    "train_datagen = ImageDataGenerator(rescale=1./255,\n",
    "                                   shear_range=0.2,\n",
    "                                   zoom_range=0.2,\n",
    "                                   horizontal_flip = True)"
   ]
  },
  {
   "cell_type": "code",
   "execution_count": 16,
   "id": "d7adef71",
   "metadata": {},
   "outputs": [],
   "source": [
    "test_datagen = ImageDataGenerator(rescale=1./255)"
   ]
  },
  {
   "cell_type": "code",
   "execution_count": 17,
   "id": "384f5459",
   "metadata": {},
   "outputs": [
    {
     "name": "stdout",
     "output_type": "stream",
     "text": [
      "Found 11043 images belonging to 2 classes.\n"
     ]
    }
   ],
   "source": [
    "training_set = train_datagen.flow_from_directory('train',\n",
    "                                                 target_size=(224,224),\n",
    "                                                 batch_size = 32,\n",
    "                                                 class_mode = 'categorical')"
   ]
  },
  {
   "cell_type": "code",
   "execution_count": 18,
   "id": "12391d38",
   "metadata": {},
   "outputs": [
    {
     "name": "stdout",
     "output_type": "stream",
     "text": [
      "Found 2765 images belonging to 2 classes.\n"
     ]
    }
   ],
   "source": [
    "test_set = test_datagen.flow_from_directory('test',\n",
    "                                            target_size = (224,224),\n",
    "                                            batch_size = 32,\n",
    "                                            class_mode = 'categorical')"
   ]
  },
  {
   "cell_type": "code",
   "execution_count": 19,
   "id": "a11d025e",
   "metadata": {},
   "outputs": [
    {
     "name": "stdout",
     "output_type": "stream",
     "text": [
      "Epoch 1/20\n",
      "346/346 [==============================] - 720s 2s/step - loss: 0.2855 - accuracy: 0.8812 - val_loss: 0.0601 - val_accuracy: 0.9414\n",
      "Epoch 2/20\n",
      "346/346 [==============================] - 140s 405ms/step - loss: 0.1858 - accuracy: 0.9256 - val_loss: 0.0178 - val_accuracy: 0.9316\n",
      "Epoch 3/20\n",
      "346/346 [==============================] - 177s 513ms/step - loss: 0.1582 - accuracy: 0.9373 - val_loss: 0.0948 - val_accuracy: 0.9421\n",
      "Epoch 4/20\n",
      "346/346 [==============================] - 118s 341ms/step - loss: 0.1430 - accuracy: 0.9435 - val_loss: 0.1408 - val_accuracy: 0.9382\n",
      "Epoch 5/20\n",
      "346/346 [==============================] - 119s 343ms/step - loss: 0.1315 - accuracy: 0.9487 - val_loss: 0.1147 - val_accuracy: 0.9573\n",
      "Epoch 6/20\n",
      "346/346 [==============================] - 118s 342ms/step - loss: 0.1233 - accuracy: 0.9492 - val_loss: 0.1305 - val_accuracy: 0.9454\n",
      "Epoch 7/20\n",
      "346/346 [==============================] - 118s 341ms/step - loss: 0.1403 - accuracy: 0.9473 - val_loss: 0.5263 - val_accuracy: 0.9298\n",
      "Epoch 8/20\n",
      "346/346 [==============================] - 118s 342ms/step - loss: 0.1180 - accuracy: 0.9561 - val_loss: 0.0113 - val_accuracy: 0.9602\n",
      "Epoch 9/20\n",
      "346/346 [==============================] - 118s 341ms/step - loss: 0.1203 - accuracy: 0.9564 - val_loss: 0.0554 - val_accuracy: 0.9458\n",
      "Epoch 10/20\n",
      "346/346 [==============================] - 118s 341ms/step - loss: 0.1170 - accuracy: 0.9548 - val_loss: 0.0248 - val_accuracy: 0.9363\n",
      "Epoch 11/20\n",
      "346/346 [==============================] - 119s 343ms/step - loss: 0.1156 - accuracy: 0.9529 - val_loss: 0.0018 - val_accuracy: 0.9537\n",
      "Epoch 12/20\n",
      "346/346 [==============================] - 118s 341ms/step - loss: 0.1124 - accuracy: 0.9571 - val_loss: 0.1268 - val_accuracy: 0.9559\n",
      "Epoch 13/20\n",
      "346/346 [==============================] - 118s 341ms/step - loss: 0.1157 - accuracy: 0.9567 - val_loss: 0.0204 - val_accuracy: 0.9573\n",
      "Epoch 14/20\n",
      "346/346 [==============================] - 119s 343ms/step - loss: 0.1127 - accuracy: 0.9596 - val_loss: 0.0580 - val_accuracy: 0.9432\n",
      "Epoch 15/20\n",
      "346/346 [==============================] - 118s 342ms/step - loss: 0.0963 - accuracy: 0.9640 - val_loss: 0.1748 - val_accuracy: 0.9559\n",
      "Epoch 16/20\n",
      "346/346 [==============================] - 118s 342ms/step - loss: 0.0823 - accuracy: 0.9691 - val_loss: 0.2908 - val_accuracy: 0.9541\n",
      "Epoch 17/20\n",
      "346/346 [==============================] - 120s 346ms/step - loss: 0.0926 - accuracy: 0.9656 - val_loss: 0.0031 - val_accuracy: 0.9580\n",
      "Epoch 18/20\n",
      "346/346 [==============================] - 118s 342ms/step - loss: 0.0942 - accuracy: 0.9655 - val_loss: 0.3020 - val_accuracy: 0.9136\n",
      "Epoch 19/20\n",
      "346/346 [==============================] - 118s 342ms/step - loss: 0.0931 - accuracy: 0.9652 - val_loss: 0.0140 - val_accuracy: 0.9588\n",
      "Epoch 20/20\n",
      "346/346 [==============================] - 119s 343ms/step - loss: 0.0877 - accuracy: 0.9660 - val_loss: 0.1060 - val_accuracy: 0.9472\n"
     ]
    }
   ],
   "source": [
    "#fit the model\n",
    "r = model.fit_generator(training_set,\n",
    "                        validation_data = test_set,\n",
    "                        epochs=20,\n",
    "                        steps_per_epoch = len(training_set),\n",
    "                        validation_steps = len(test_set))"
   ]
  },
  {
   "cell_type": "code",
   "execution_count": 20,
   "id": "7372773b",
   "metadata": {},
   "outputs": [],
   "source": [
    "from keras.models import load_model\n",
    "model.save('covid_disease_vgg16.h5')"
   ]
  },
  {
   "cell_type": "code",
   "execution_count": null,
   "id": "460fcbc3",
   "metadata": {},
   "outputs": [],
   "source": []
  }
 ],
 "metadata": {
  "kernelspec": {
   "display_name": "Python 3",
   "language": "python",
   "name": "python3"
  },
  "language_info": {
   "codemirror_mode": {
    "name": "ipython",
    "version": 3
   },
   "file_extension": ".py",
   "mimetype": "text/x-python",
   "name": "python",
   "nbconvert_exporter": "python",
   "pygments_lexer": "ipython3",
   "version": "3.6.13"
  }
 },
 "nbformat": 4,
 "nbformat_minor": 5
}
